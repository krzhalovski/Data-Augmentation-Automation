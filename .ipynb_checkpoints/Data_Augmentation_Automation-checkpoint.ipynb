{
 "cells": [
  {
   "cell_type": "code",
   "execution_count": 3,
   "metadata": {
    "colab": {},
    "colab_type": "code",
    "id": "seDcv-RvrUpM"
   },
   "outputs": [],
   "source": [
    "import tensorflow as tf\n",
    "from tensorflow import keras\n",
    "import matplotlib.pyplot as plt\n",
    "import numpy as np\n",
    "\n",
    "np.random.seed(42)"
   ]
  },
  {
   "cell_type": "code",
   "execution_count": 4,
   "metadata": {
    "colab": {
     "base_uri": "https://localhost:8080/",
     "height": 153
    },
    "colab_type": "code",
    "id": "8QQy37jnsH_e",
    "outputId": "6d300577-a40a-4ce8-cba1-5b6815170220"
   },
   "outputs": [
    {
     "name": "stdout",
     "output_type": "stream",
     "text": [
      "Downloading data from https://storage.googleapis.com/tensorflow/tf-keras-datasets/train-labels-idx1-ubyte.gz\n",
      "32768/29515 [=================================] - 0s 0us/step\n",
      "Downloading data from https://storage.googleapis.com/tensorflow/tf-keras-datasets/train-images-idx3-ubyte.gz\n",
      "26427392/26421880 [==============================] - 0s 0us/step\n",
      "Downloading data from https://storage.googleapis.com/tensorflow/tf-keras-datasets/t10k-labels-idx1-ubyte.gz\n",
      "8192/5148 [===============================================] - 0s 0us/step\n",
      "Downloading data from https://storage.googleapis.com/tensorflow/tf-keras-datasets/t10k-images-idx3-ubyte.gz\n",
      "4423680/4422102 [==============================] - 0s 0us/step\n"
     ]
    }
   ],
   "source": [
    "fashion_mnist = keras.datasets.fashion_mnist\n",
    "(X_train_full, y_train_full), (X_test, y_test) = (\n",
    "    fashion_mnist.load_data()) #The dataset is already divede in test and training..\n",
    "\n",
    "#Normalize the data\n",
    "pixel_means = X_train_full.mean(axis = 0)\n",
    "pixel_stds = X_test.std(axis = 0)\n",
    "\n",
    "X_train_full = X_train_full.astype('float32').reshape((-1, 28, 28, 1))\n",
    "X_test = X_test.astype('float32').reshape((-1, 28, 28, 1))\n",
    "X_train_full = X_train_full / 255\n",
    "X_test = X_test / 255\n",
    "\n",
    "#Add one dimension to manage the channel\n",
    "#X_train_full=tf.expand_dims(X_train_full, 3) \n",
    "#X_test=tf.expand_dims(X_test,3)\n",
    "\n",
    "#Extract the first 5000 samples of the training set, to use them as the validation set\n",
    "X_valid, X_train = X_train_full[:5000], X_train_full[5000:] \n",
    "y_valid, y_train = y_train_full[:5000], y_train_full[5000:]\n",
    "\n",
    "class_names = [\"T-shirt/top\", \"Trouser\", \"Pullover\", \"Dress\", \"Coat\",\n",
    "               \"Sandal\", \"Shirt\", \"Sneaker\", \"Bag\", \"Ankle boot\"]\n"
   ]
  },
  {
   "cell_type": "code",
   "execution_count": 5,
   "metadata": {
    "colab": {
     "base_uri": "https://localhost:8080/",
     "height": 51
    },
    "colab_type": "code",
    "id": "NgWbYDfH0n7d",
    "outputId": "90ea8bf5-90e6-445f-bf7d-63c14b8e76ee"
   },
   "outputs": [
    {
     "name": "stdout",
     "output_type": "stream",
     "text": [
      "(11050, 28, 28, 1), (950, 28, 28, 1), (11050,), (950,)\n",
      "OK\n"
     ]
    }
   ],
   "source": [
    "shirt_indices_train = np.logical_or(y_train==0, y_train==6)\n",
    "shirt_indices_valid = np.logical_or(y_valid==0, y_valid==6)\n",
    "\n",
    "shirt_x_train = X_train[shirt_indices_train] \n",
    "shirt_x_valid = X_valid[shirt_indices_valid]\n",
    "shirt_y_train = y_train[shirt_indices_train]\n",
    "shirt_y_train[shirt_y_train==6] = 1\n",
    "shirt_y_valid = y_valid[shirt_indices_valid]\n",
    "shirt_y_valid[shirt_y_valid==6] = 1\n",
    "\n",
    "print(f'{shirt_x_train.shape}, {shirt_x_valid.shape}, {shirt_y_train.shape}, {shirt_y_valid.shape}')\n",
    "print('OK')"
   ]
  },
  {
   "cell_type": "code",
   "execution_count": null,
   "metadata": {
    "colab": {},
    "colab_type": "code",
    "id": "bmt2Qoxlt1G4"
   },
   "outputs": [],
   "source": [
    "from sklearn.ensemble import RandomForestClassifier\n",
    "from sklearn.svm import SVC\n",
    "from sklearn.neighbors import KNeighborsClassifier"
   ]
  },
  {
   "cell_type": "code",
   "execution_count": null,
   "metadata": {
    "colab": {
     "base_uri": "https://localhost:8080/",
     "height": 34
    },
    "colab_type": "code",
    "id": "hUjwQqfHugc9",
    "outputId": "2574eb1d-9693-4c68-c598-946e7d586039"
   },
   "outputs": [
    {
     "data": {
      "text/plain": [
       "0.8557894736842105"
      ]
     },
     "execution_count": 9,
     "metadata": {
      "tags": []
     },
     "output_type": "execute_result"
    }
   ],
   "source": [
    "RF_model = RandomForestClassifier(n_estimators=100, criterion='entropy', max_depth=50)\n",
    "RF_model.fit(tf.keras.backend.eval(shirt_x_train).reshape((11050, 784)), shirt_y_train)\n",
    "\n",
    "predictions = RF_model.predict(tf.keras.backend.eval(shirt_x_valid).reshape((950, 784)))\n",
    "(predictions==shirt_y_valid).mean()"
   ]
  },
  {
   "cell_type": "code",
   "execution_count": null,
   "metadata": {
    "colab": {
     "base_uri": "https://localhost:8080/",
     "height": 34
    },
    "colab_type": "code",
    "id": "rOgzzLRauxOn",
    "outputId": "679927ce-d8f6-4da3-f10c-5990e0b63a70"
   },
   "outputs": [
    {
     "data": {
      "text/plain": [
       "0.8610526315789474"
      ]
     },
     "execution_count": 10,
     "metadata": {
      "tags": []
     },
     "output_type": "execute_result"
    }
   ],
   "source": [
    "SVM_model = SVC(C=10, kernel='poly')\n",
    "SVM_model.fit(tf.keras.backend.eval(shirt_x_train).reshape((11050, 784)), shirt_y_train)\n",
    "\n",
    "predictions = SVM_model.predict(tf.keras.backend.eval(shirt_x_valid).reshape((950, 784)))\n",
    "(predictions==shirt_y_valid).mean()"
   ]
  },
  {
   "cell_type": "code",
   "execution_count": null,
   "metadata": {
    "colab": {
     "base_uri": "https://localhost:8080/",
     "height": 34
    },
    "colab_type": "code",
    "id": "sVOtVIh7uxfv",
    "outputId": "0fd582f0-4f77-4fd1-adeb-825bb70274b7"
   },
   "outputs": [
    {
     "data": {
      "text/plain": [
       "0.84"
      ]
     },
     "execution_count": 11,
     "metadata": {
      "tags": []
     },
     "output_type": "execute_result"
    }
   ],
   "source": [
    "KNN_model = KNeighborsClassifier(n_neighbors=5, p=1,weights=\"distance\")\n",
    "KNN_model.fit(tf.keras.backend.eval(shirt_x_train).reshape((11050, 784)), shirt_y_train)\n",
    "\n",
    "predictions = KNN_model.predict(tf.keras.backend.eval(shirt_x_valid).reshape((950, 784)))\n",
    "(predictions==shirt_y_valid).mean()"
   ]
  },
  {
   "cell_type": "code",
   "execution_count": 5,
   "metadata": {
    "colab": {
     "base_uri": "https://localhost:8080/",
     "height": 34
    },
    "colab_type": "code",
    "id": "qaiTCZwm8h0H",
    "outputId": "cc3f6bed-bc4b-4e5f-8f70-3fb8d0429805"
   },
   "outputs": [
    {
     "data": {
      "text/plain": [
       "TensorShape([28, 28, 1])"
      ]
     },
     "execution_count": 5,
     "metadata": {
      "tags": []
     },
     "output_type": "execute_result"
    }
   ],
   "source": [
    "original_image = shirt_x_train[0]\n",
    "original_image.shape"
   ]
  },
  {
   "cell_type": "code",
   "execution_count": 7,
   "metadata": {
    "colab": {},
    "colab_type": "code",
    "id": "57aZ0KRGM7kY"
   },
   "outputs": [],
   "source": [
    "def get_augmented_image(option):\n",
    "    base_data_generator = {\n",
    "        'featurewise_center': False,\n",
    "        'samplewise_center': False,\n",
    "        'featurewise_std_normalization': False,\n",
    "        'samplewise_std_normalization': False,\n",
    "        'zca_whitening': False,\n",
    "        'zca_epsilon': 0,\n",
    "        'rotation_range': 0,\n",
    "        'width_shift_range': 0.0,\n",
    "        'height_shift_range': 0.0,\n",
    "        'brightness_range': None,\n",
    "        'shear_range': 0.0,\n",
    "        'zoom_range': 0.0,\n",
    "        'channel_shift_range': 0.0,\n",
    "        'fill_mode': \"nearest\",\n",
    "        'cval': 0.0,\n",
    "        'horizontal_flip': False,\n",
    "        'vertical_flip': False,\n",
    "        'rescale': None,\n",
    "        'preprocessing_function': None,\n",
    "        'data_format': None,\n",
    "        'validation_split': 0.0,\n",
    "        'dtype': None,\n",
    "    }\n",
    "\n",
    "    for opt in option:\n",
    "      base_data_generator[opt[0]] = opt[1]\n",
    "\n",
    "    generator = keras.preprocessing.image.ImageDataGenerator(**base_data_generator)\n",
    "    generator.fit(X_train_full)\n",
    "\n",
    "    augmented_image = []\n",
    "    i=0\n",
    "    for batch in generator.flow(tf.reshape(original_image, (1, 28, 28, 1)), batch_size=1):\n",
    "      for img in batch:\n",
    "        augmented_image=img\n",
    "        i+=1\n",
    "      if i>=1:\n",
    "        break\n",
    "    \n",
    "    return augmented_image.reshape((28, 28))"
   ]
  },
  {
   "cell_type": "code",
   "execution_count": 30,
   "metadata": {
    "colab": {
     "base_uri": "https://localhost:8080/",
     "height": 229
    },
    "colab_type": "code",
    "id": "v43jGsdHwkNk",
    "outputId": "a4c8d2c8-0a7a-428e-bf41-e3cc9818602a"
   },
   "outputs": [
    {
     "name": "stderr",
     "output_type": "stream",
     "text": [
      "/usr/local/lib/python3.6/dist-packages/keras_preprocessing/image/image_data_generator.py:337: UserWarning: This ImageDataGenerator specifies `zca_whitening`, which overrides setting of `featurewise_center`.\n",
      "  warnings.warn('This ImageDataGenerator specifies '\n"
     ]
    },
    {
     "data": {
      "image/png": "[encoded data removed]",
      "text/plain": [
       "<Figure size 576x576 with 3 Axes>"
      ]
     },
     "metadata": {
      "needs_background": "light",
      "tags": []
     },
     "output_type": "display_data"
    }
   ],
   "source": [
    "testing = plt.figure(figsize=(8, 8))\n",
    "plt.subplot(1, 3, 1)\n",
    "plt.imshow(tf.reshape(original_image, (28, 28)), cmap='gray')\n",
    "plt.title('Orignal')\n",
    "plt.subplot(1, 3, 2)\n",
    "plt.imshow(get_augmented_image([('zca_whitening', True), ('zca_epsilon', 0.1)]), cmap='gray')\n",
    "plt.title('epsilon=0.1')\n",
    "plt.subplot(1, 3, 3)\n",
    "plt.imshow(get_augmented_image([('zca_whitening', True), ('zca_epsilon', 0.01)]), cmap='gray')\n",
    "plt.title('epsilon=0.01')\n",
    "testing.savefig('/content/drive/My Drive/zca_whitening.png')"
   ]
  },
  {
   "cell_type": "code",
   "execution_count": 138,
   "metadata": {
    "colab": {
     "base_uri": "https://localhost:8080/",
     "height": 282
    },
    "colab_type": "code",
    "id": "nV2_raCV9I-N",
    "outputId": "858f3bd2-37a1-4291-8a07-8272e7683e75"
   },
   "outputs": [
    {
     "data": {
      "text/plain": [
       "<matplotlib.image.AxesImage at 0x7f59d9181eb8>"
      ]
     },
     "execution_count": 138,
     "metadata": {
      "tags": []
     },
     "output_type": "execute_result"
    },
    {
     "data": {
      "image/png": "[encoded data removed]",
      "text/plain": [
       "<Figure size 432x288 with 1 Axes>"
      ]
     },
     "metadata": {
      "needs_background": "light",
      "tags": []
     },
     "output_type": "display_data"
    }
   ],
   "source": [
    "plt.imshow(get_augmented_image([('shear_range', 10)]), cmap='gray')"
   ]
  },
  {
   "cell_type": "code",
   "execution_count": null,
   "metadata": {
    "colab": {
     "base_uri": "https://localhost:8080/",
     "height": 449
    },
    "colab_type": "code",
    "id": "JLqTdo1huxku",
    "outputId": "fc3e0a05-35f1-4c77-8751-f55a57e01595"
   },
   "outputs": [
    {
     "data": {
      "text/plain": [
       "<matplotlib.image.AxesImage at 0x7efc19577240>"
      ]
     },
     "execution_count": 110,
     "metadata": {
      "tags": []
     },
     "output_type": "execute_result"
    },
    {
     "data": {
      "image/png": "[encoded data removed]",
      "text/plain": [
       "<Figure size 576x576 with 6 Axes>"
      ]
     },
     "metadata": {
      "needs_background": "light",
      "tags": []
     },
     "output_type": "display_data"
    }
   ],
   "source": [
    "testing = plt.figure(figsize=(8, 8))\n",
    "plt.subplot(2, 3, 1)\n",
    "plt.imshow(tf.reshape(shirt_x_train[0], (28, 28)), cmap='gray')\n",
    "plt.title('Orignal')\n",
    "plt.subplot(2, 3, 2)\n",
    "plt.title('Width Shift')\n",
    "plt.imshow(get_augmented_image([('width_shift_range', 0.6)]), cmap='gray')\n",
    "plt.subplot(2, 3, 3)\n",
    "plt.title('Height Shift')\n",
    "plt.imshow(get_augmented_image([('height_shift_range', 0.6)]), cmap='gray')\n",
    "plt.subplot(2, 3, 4)\n",
    "plt.title('Rotational Shift')\n",
    "plt.imshow(get_augmented_image([('rotation_range', 45)]), cmap='gray')\n",
    "plt.subplot(2, 3, 5)\n",
    "plt.title('Shear Shift')\n",
    "plt.imshow(get_augmented_image([('shear_range', 50)]), cmap='gray')\n",
    "plt.subplot(2, 3, 6)\n",
    "plt.title('Zoom')\n",
    "plt.imshow(get_augmented_image([('zoom_range', 0.5)]), cmap='gray')"
   ]
  },
  {
   "cell_type": "code",
   "execution_count": null,
   "metadata": {
    "colab": {
     "base_uri": "https://localhost:8080/",
     "height": 312
    },
    "colab_type": "code",
    "id": "3d8m134E1rY3",
    "outputId": "05cb558b-0579-4aa0-91f3-381af9f465b6"
   },
   "outputs": [
    {
     "name": "stderr",
     "output_type": "stream",
     "text": [
      "/usr/local/lib/python3.6/dist-packages/keras_preprocessing/image/image_data_generator.py:337: UserWarning: This ImageDataGenerator specifies `zca_whitening`, which overrides setting of `featurewise_center`.\n",
      "  warnings.warn('This ImageDataGenerator specifies '\n"
     ]
    },
    {
     "data": {
      "text/plain": [
       "<matplotlib.image.AxesImage at 0x7efc16b497f0>"
      ]
     },
     "execution_count": 122,
     "metadata": {
      "tags": []
     },
     "output_type": "execute_result"
    },
    {
     "data": {
      "image/png": "[encoded data removed]",
      "text/plain": [
       "<Figure size 864x576 with 3 Axes>"
      ]
     },
     "metadata": {
      "needs_background": "light",
      "tags": []
     },
     "output_type": "display_data"
    }
   ],
   "source": [
    "testing = plt.figure(figsize=(12, 8))\n",
    "plt.subplot(1, 3, 1)\n",
    "plt.imshow(tf.reshape(shirt_x_train[0], (28, 28)), cmap='gray')\n",
    "plt.title('Orignal')\n",
    "plt.subplot(1, 3, 2)\n",
    "plt.title('Featurewise Normalization')\n",
    "plt.imshow(get_augmented_image([('featurewise_center', True), ('featurewise_std_normalization', True)]), cmap='gray')\n",
    "plt.subplot(1, 3, 3)\n",
    "plt.title('Samplewise Normalization')\n",
    "plt.imshow(get_augmented_image([('zca_whitening', True), ('zca_epsilon', 0.9)]), cmap='gray')"
   ]
  },
  {
   "cell_type": "code",
   "execution_count": 6,
   "metadata": {
    "colab": {},
    "colab_type": "code",
    "id": "yVD4jB7ZMK5z"
   },
   "outputs": [],
   "source": [
    "def scheduler(epoch, lr):\n",
    "    if epoch%10==0:\n",
    "        return lr*np.exp(-0.1)\n",
    "    return lr"
   ]
  },
  {
   "cell_type": "code",
   "execution_count": 8,
   "metadata": {
    "colab": {
     "base_uri": "https://localhost:8080/",
     "height": 51
    },
    "colab_type": "code",
    "id": "pFisYnsZaPlK",
    "outputId": "06859597-ceb9-47c8-8860-a5e20b6b19c5"
   },
   "outputs": [
    {
     "name": "stderr",
     "output_type": "stream",
     "text": [
      "/usr/local/lib/python3.6/dist-packages/keras_preprocessing/image/image_data_generator.py:337: UserWarning: This ImageDataGenerator specifies `zca_whitening`, which overrides setting of `featurewise_center`.\n",
      "  warnings.warn('This ImageDataGenerator specifies '\n"
     ]
    }
   ],
   "source": [
    "dic = {'zca_whitening': True, 'zca_epsilon': 0.01}\n",
    "datagen = keras.preprocessing.image.ImageDataGenerator(\n",
    "    **dic\n",
    ")\n",
    "\n",
    "datagen.fit(shirt_x_train)\n",
    "shirt_x_valid = datagen.standardize(shirt_x_valid)"
   ]
  },
  {
   "cell_type": "code",
   "execution_count": 9,
   "metadata": {
    "colab": {
     "base_uri": "https://localhost:8080/",
     "height": 1000
    },
    "colab_type": "code",
    "id": "X2pyq93vde36",
    "outputId": "729b0f09-6129-4b16-9291-b8e8917bac04"
   },
   "outputs": [
    {
     "name": "stdout",
     "output_type": "stream",
     "text": [
      "Epoch 1/150\n",
      "11/11 [==============================] - 3s 230ms/step - loss: 0.6838 - accuracy: 0.7798 - val_loss: 0.7005 - val_accuracy: 0.5200 - lr: 9.0484e-04\n",
      "Epoch 2/150\n",
      "11/11 [==============================] - 1s 130ms/step - loss: 0.3987 - accuracy: 0.8390 - val_loss: 0.7520 - val_accuracy: 0.5189 - lr: 9.0484e-04\n",
      "Epoch 3/150\n",
      "11/11 [==============================] - 1s 130ms/step - loss: 0.3701 - accuracy: 0.8433 - val_loss: 0.7902 - val_accuracy: 0.5189 - lr: 9.0484e-04\n",
      "Epoch 4/150\n",
      "11/11 [==============================] - 1s 130ms/step - loss: 0.3378 - accuracy: 0.8548 - val_loss: 0.8388 - val_accuracy: 0.5189 - lr: 9.0484e-04\n",
      "Epoch 5/150\n",
      "11/11 [==============================] - 1s 130ms/step - loss: 0.3127 - accuracy: 0.8650 - val_loss: 0.8991 - val_accuracy: 0.5189 - lr: 9.0484e-04\n",
      "Epoch 6/150\n",
      "11/11 [==============================] - 1s 130ms/step - loss: 0.2975 - accuracy: 0.8699 - val_loss: 0.8656 - val_accuracy: 0.5189 - lr: 9.0484e-04\n",
      "Epoch 7/150\n",
      "11/11 [==============================] - 1s 130ms/step - loss: 0.2801 - accuracy: 0.8760 - val_loss: 1.0222 - val_accuracy: 0.5189 - lr: 9.0484e-04\n",
      "Epoch 8/150\n",
      "11/11 [==============================] - 1s 130ms/step - loss: 0.2815 - accuracy: 0.8775 - val_loss: 0.8543 - val_accuracy: 0.5189 - lr: 9.0484e-04\n",
      "Epoch 9/150\n",
      "11/11 [==============================] - 1s 131ms/step - loss: 0.2702 - accuracy: 0.8816 - val_loss: 0.9477 - val_accuracy: 0.5189 - lr: 9.0484e-04\n",
      "Epoch 10/150\n",
      "11/11 [==============================] - 1s 130ms/step - loss: 0.2674 - accuracy: 0.8823 - val_loss: 1.2167 - val_accuracy: 0.5189 - lr: 9.0484e-04\n",
      "Epoch 11/150\n",
      "11/11 [==============================] - 1s 130ms/step - loss: 0.2548 - accuracy: 0.8919 - val_loss: 1.3604 - val_accuracy: 0.5189 - lr: 8.1873e-04\n",
      "Epoch 12/150\n",
      "11/11 [==============================] - 1s 131ms/step - loss: 0.2423 - accuracy: 0.8951 - val_loss: 1.3283 - val_accuracy: 0.5189 - lr: 8.1873e-04\n",
      "Epoch 13/150\n",
      "11/11 [==============================] - 1s 131ms/step - loss: 0.2368 - accuracy: 0.8963 - val_loss: 1.6104 - val_accuracy: 0.5189 - lr: 8.1873e-04\n",
      "Epoch 14/150\n",
      "11/11 [==============================] - 1s 130ms/step - loss: 0.2315 - accuracy: 0.8983 - val_loss: 1.2559 - val_accuracy: 0.5189 - lr: 8.1873e-04\n",
      "Epoch 15/150\n",
      "11/11 [==============================] - 1s 130ms/step - loss: 0.2294 - accuracy: 0.9018 - val_loss: 1.5642 - val_accuracy: 0.5189 - lr: 8.1873e-04\n",
      "Epoch 16/150\n",
      "11/11 [==============================] - 1s 130ms/step - loss: 0.2094 - accuracy: 0.9111 - val_loss: 1.8056 - val_accuracy: 0.5189 - lr: 8.1873e-04\n",
      "Epoch 17/150\n",
      "11/11 [==============================] - 1s 131ms/step - loss: 0.2022 - accuracy: 0.9120 - val_loss: 1.8042 - val_accuracy: 0.5189 - lr: 8.1873e-04\n",
      "Epoch 18/150\n",
      "11/11 [==============================] - 1s 130ms/step - loss: 0.1964 - accuracy: 0.9158 - val_loss: 1.8149 - val_accuracy: 0.5200 - lr: 8.1873e-04\n",
      "Epoch 19/150\n",
      "11/11 [==============================] - 1s 131ms/step - loss: 0.1872 - accuracy: 0.9168 - val_loss: 1.8688 - val_accuracy: 0.5232 - lr: 8.1873e-04\n",
      "Epoch 20/150\n",
      "11/11 [==============================] - 1s 130ms/step - loss: 0.1813 - accuracy: 0.9229 - val_loss: 1.7556 - val_accuracy: 0.5263 - lr: 8.1873e-04\n",
      "Epoch 21/150\n",
      "11/11 [==============================] - 1s 131ms/step - loss: 0.1687 - accuracy: 0.9272 - val_loss: 1.9434 - val_accuracy: 0.5316 - lr: 7.4082e-04\n",
      "Epoch 22/150\n",
      "11/11 [==============================] - 1s 130ms/step - loss: 0.1660 - accuracy: 0.9308 - val_loss: 2.1097 - val_accuracy: 0.5337 - lr: 7.4082e-04\n",
      "Epoch 23/150\n",
      "11/11 [==============================] - 1s 131ms/step - loss: 0.1578 - accuracy: 0.9328 - val_loss: 1.8451 - val_accuracy: 0.5516 - lr: 7.4082e-04\n",
      "Epoch 24/150\n",
      "11/11 [==============================] - 1s 130ms/step - loss: 0.1592 - accuracy: 0.9308 - val_loss: 2.2378 - val_accuracy: 0.5368 - lr: 7.4082e-04\n",
      "Epoch 25/150\n",
      "11/11 [==============================] - 1s 131ms/step - loss: 0.1552 - accuracy: 0.9341 - val_loss: 1.6270 - val_accuracy: 0.5653 - lr: 7.4082e-04\n",
      "Epoch 26/150\n",
      "11/11 [==============================] - 1s 130ms/step - loss: 0.1550 - accuracy: 0.9349 - val_loss: 1.7398 - val_accuracy: 0.5821 - lr: 7.4082e-04\n",
      "Epoch 27/150\n",
      "11/11 [==============================] - 1s 129ms/step - loss: 0.1408 - accuracy: 0.9408 - val_loss: 1.7099 - val_accuracy: 0.5937 - lr: 7.4082e-04\n",
      "Epoch 28/150\n",
      "11/11 [==============================] - 1s 130ms/step - loss: 0.1374 - accuracy: 0.9448 - val_loss: 1.6052 - val_accuracy: 0.5853 - lr: 7.4082e-04\n",
      "Epoch 29/150\n",
      "11/11 [==============================] - 1s 131ms/step - loss: 0.1331 - accuracy: 0.9443 - val_loss: 1.6280 - val_accuracy: 0.6021 - lr: 7.4082e-04\n",
      "Epoch 30/150\n",
      "11/11 [==============================] - 1s 130ms/step - loss: 0.1224 - accuracy: 0.9489 - val_loss: 1.8477 - val_accuracy: 0.5947 - lr: 7.4082e-04\n",
      "Epoch 31/150\n",
      "11/11 [==============================] - 1s 131ms/step - loss: 0.1188 - accuracy: 0.9515 - val_loss: 1.4914 - val_accuracy: 0.6137 - lr: 6.7032e-04\n",
      "Epoch 32/150\n",
      "11/11 [==============================] - 1s 130ms/step - loss: 0.1162 - accuracy: 0.9532 - val_loss: 1.7779 - val_accuracy: 0.6158 - lr: 6.7032e-04\n",
      "Epoch 33/150\n",
      "11/11 [==============================] - 1s 130ms/step - loss: 0.1114 - accuracy: 0.9553 - val_loss: 1.8166 - val_accuracy: 0.6116 - lr: 6.7032e-04\n",
      "Epoch 34/150\n",
      "11/11 [==============================] - 1s 130ms/step - loss: 0.1056 - accuracy: 0.9560 - val_loss: 1.3888 - val_accuracy: 0.6358 - lr: 6.7032e-04\n",
      "Epoch 35/150\n",
      "11/11 [==============================] - 1s 132ms/step - loss: 0.0996 - accuracy: 0.9605 - val_loss: 1.2945 - val_accuracy: 0.6505 - lr: 6.7032e-04\n",
      "Epoch 36/150\n",
      "11/11 [==============================] - 1s 131ms/step - loss: 0.0978 - accuracy: 0.9633 - val_loss: 1.6470 - val_accuracy: 0.6316 - lr: 6.7032e-04\n",
      "Epoch 37/150\n",
      "11/11 [==============================] - 1s 132ms/step - loss: 0.0952 - accuracy: 0.9598 - val_loss: 1.4002 - val_accuracy: 0.6284 - lr: 6.7032e-04\n",
      "Epoch 38/150\n",
      "11/11 [==============================] - 1s 132ms/step - loss: 0.0929 - accuracy: 0.9633 - val_loss: 1.3038 - val_accuracy: 0.6632 - lr: 6.7032e-04\n",
      "Epoch 39/150\n",
      "11/11 [==============================] - 1s 131ms/step - loss: 0.0869 - accuracy: 0.9662 - val_loss: 1.4340 - val_accuracy: 0.6526 - lr: 6.7032e-04\n",
      "Epoch 40/150\n",
      "11/11 [==============================] - 1s 132ms/step - loss: 0.0865 - accuracy: 0.9667 - val_loss: 1.0686 - val_accuracy: 0.6663 - lr: 6.7032e-04\n",
      "Epoch 41/150\n",
      "11/11 [==============================] - 1s 131ms/step - loss: 0.0784 - accuracy: 0.9688 - val_loss: 0.9679 - val_accuracy: 0.6832 - lr: 6.0653e-04\n",
      "Epoch 42/150\n",
      "11/11 [==============================] - 1s 131ms/step - loss: 0.0822 - accuracy: 0.9662 - val_loss: 0.9662 - val_accuracy: 0.6863 - lr: 6.0653e-04\n",
      "Epoch 43/150\n",
      "11/11 [==============================] - 1s 131ms/step - loss: 0.0804 - accuracy: 0.9676 - val_loss: 1.0923 - val_accuracy: 0.6716 - lr: 6.0653e-04\n",
      "Epoch 44/150\n",
      "11/11 [==============================] - 1s 131ms/step - loss: 0.0686 - accuracy: 0.9742 - val_loss: 1.0668 - val_accuracy: 0.6979 - lr: 6.0653e-04\n",
      "Epoch 45/150\n",
      "11/11 [==============================] - 1s 131ms/step - loss: 0.0677 - accuracy: 0.9748 - val_loss: 1.1782 - val_accuracy: 0.6695 - lr: 6.0653e-04\n",
      "Epoch 46/150\n",
      "11/11 [==============================] - 1s 131ms/step - loss: 0.0669 - accuracy: 0.9742 - val_loss: 1.1278 - val_accuracy: 0.6726 - lr: 6.0653e-04\n",
      "Epoch 47/150\n",
      "11/11 [==============================] - 1s 131ms/step - loss: 0.0633 - accuracy: 0.9769 - val_loss: 1.3377 - val_accuracy: 0.6684 - lr: 6.0653e-04\n",
      "Epoch 48/150\n",
      "11/11 [==============================] - 1s 131ms/step - loss: 0.0596 - accuracy: 0.9778 - val_loss: 1.5582 - val_accuracy: 0.6589 - lr: 6.0653e-04\n",
      "Epoch 49/150\n",
      "11/11 [==============================] - 1s 131ms/step - loss: 0.0564 - accuracy: 0.9789 - val_loss: 1.4392 - val_accuracy: 0.6695 - lr: 6.0653e-04\n",
      "Epoch 50/150\n",
      "11/11 [==============================] - 1s 131ms/step - loss: 0.0576 - accuracy: 0.9791 - val_loss: 1.3407 - val_accuracy: 0.6726 - lr: 6.0653e-04\n",
      "Epoch 51/150\n",
      "11/11 [==============================] - 1s 129ms/step - loss: 0.0564 - accuracy: 0.9797 - val_loss: 1.3229 - val_accuracy: 0.6958 - lr: 5.4881e-04\n",
      "Epoch 52/150\n",
      "11/11 [==============================] - 1s 131ms/step - loss: 0.0492 - accuracy: 0.9828 - val_loss: 1.7663 - val_accuracy: 0.6653 - lr: 5.4881e-04\n",
      "Epoch 53/150\n",
      "11/11 [==============================] - 1s 131ms/step - loss: 0.0498 - accuracy: 0.9832 - val_loss: 1.4715 - val_accuracy: 0.6979 - lr: 5.4881e-04\n",
      "Epoch 54/150\n",
      "11/11 [==============================] - 1s 131ms/step - loss: 0.0483 - accuracy: 0.9818 - val_loss: 1.7784 - val_accuracy: 0.6653 - lr: 5.4881e-04\n",
      "Epoch 55/150\n",
      "11/11 [==============================] - 1s 131ms/step - loss: 0.0446 - accuracy: 0.9840 - val_loss: 1.9378 - val_accuracy: 0.6884 - lr: 5.4881e-04\n",
      "Epoch 56/150\n",
      "11/11 [==============================] - 1s 131ms/step - loss: 0.0465 - accuracy: 0.9828 - val_loss: 2.2026 - val_accuracy: 0.6516 - lr: 5.4881e-04\n",
      "Epoch 57/150\n",
      "11/11 [==============================] - 1s 130ms/step - loss: 0.0456 - accuracy: 0.9833 - val_loss: 2.1007 - val_accuracy: 0.6674 - lr: 5.4881e-04\n",
      "Epoch 58/150\n",
      "11/11 [==============================] - 1s 131ms/step - loss: 0.0448 - accuracy: 0.9838 - val_loss: 1.9199 - val_accuracy: 0.6989 - lr: 5.4881e-04\n",
      "Epoch 59/150\n",
      "11/11 [==============================] - 1s 131ms/step - loss: 0.0435 - accuracy: 0.9842 - val_loss: 2.2126 - val_accuracy: 0.6874 - lr: 5.4881e-04\n",
      "Epoch 60/150\n",
      "11/11 [==============================] - 1s 131ms/step - loss: 0.0394 - accuracy: 0.9869 - val_loss: 2.2361 - val_accuracy: 0.6989 - lr: 5.4881e-04\n",
      "Epoch 61/150\n",
      "11/11 [==============================] - 1s 130ms/step - loss: 0.0382 - accuracy: 0.9877 - val_loss: 2.4213 - val_accuracy: 0.6916 - lr: 4.9659e-04\n",
      "Epoch 62/150\n",
      "11/11 [==============================] - 1s 131ms/step - loss: 0.0392 - accuracy: 0.9860 - val_loss: 2.4005 - val_accuracy: 0.7011 - lr: 4.9659e-04\n",
      "Epoch 63/150\n",
      "11/11 [==============================] - 1s 131ms/step - loss: 0.0379 - accuracy: 0.9864 - val_loss: 2.6242 - val_accuracy: 0.6958 - lr: 4.9659e-04\n",
      "Epoch 64/150\n",
      "11/11 [==============================] - 1s 132ms/step - loss: 0.0329 - accuracy: 0.9894 - val_loss: 2.8862 - val_accuracy: 0.6737 - lr: 4.9659e-04\n",
      "Epoch 65/150\n",
      "11/11 [==============================] - 1s 131ms/step - loss: 0.0323 - accuracy: 0.9892 - val_loss: 2.7624 - val_accuracy: 0.6884 - lr: 4.9659e-04\n",
      "Epoch 66/150\n",
      "11/11 [==============================] - 1s 131ms/step - loss: 0.0338 - accuracy: 0.9883 - val_loss: 3.1549 - val_accuracy: 0.6632 - lr: 4.9659e-04\n",
      "Epoch 67/150\n",
      "11/11 [==============================] - 1s 131ms/step - loss: 0.0288 - accuracy: 0.9903 - val_loss: 3.1985 - val_accuracy: 0.6832 - lr: 4.9659e-04\n",
      "Epoch 68/150\n",
      "11/11 [==============================] - 1s 132ms/step - loss: 0.0329 - accuracy: 0.9881 - val_loss: 3.5394 - val_accuracy: 0.6768 - lr: 4.9659e-04\n",
      "Epoch 69/150\n",
      "11/11 [==============================] - 1s 131ms/step - loss: 0.0292 - accuracy: 0.9894 - val_loss: 3.4403 - val_accuracy: 0.6632 - lr: 4.9659e-04\n",
      "Epoch 70/150\n",
      "11/11 [==============================] - 1s 131ms/step - loss: 0.0276 - accuracy: 0.9901 - val_loss: 3.2313 - val_accuracy: 0.6832 - lr: 4.9659e-04\n",
      "Epoch 71/150\n",
      "11/11 [==============================] - 1s 132ms/step - loss: 0.0271 - accuracy: 0.9908 - val_loss: 3.0938 - val_accuracy: 0.7063 - lr: 4.4933e-04\n",
      "Epoch 72/150\n",
      "11/11 [==============================] - 1s 132ms/step - loss: 0.0261 - accuracy: 0.9919 - val_loss: 3.3520 - val_accuracy: 0.6874 - lr: 4.4933e-04\n",
      "Epoch 73/150\n",
      "11/11 [==============================] - 1s 131ms/step - loss: 0.0235 - accuracy: 0.9927 - val_loss: 3.7939 - val_accuracy: 0.6726 - lr: 4.4933e-04\n",
      "Epoch 74/150\n",
      "11/11 [==============================] - 1s 131ms/step - loss: 0.0236 - accuracy: 0.9930 - val_loss: 3.5066 - val_accuracy: 0.6863 - lr: 4.4933e-04\n",
      "Epoch 75/150\n",
      "11/11 [==============================] - 1s 132ms/step - loss: 0.0234 - accuracy: 0.9925 - val_loss: 3.8395 - val_accuracy: 0.6726 - lr: 4.4933e-04\n",
      "Epoch 76/150\n",
      "11/11 [==============================] - 1s 130ms/step - loss: 0.0226 - accuracy: 0.9929 - val_loss: 3.8663 - val_accuracy: 0.6811 - lr: 4.4933e-04\n",
      "Epoch 77/150\n",
      "11/11 [==============================] - 1s 132ms/step - loss: 0.0211 - accuracy: 0.9945 - val_loss: 3.4253 - val_accuracy: 0.6937 - lr: 4.4933e-04\n",
      "Epoch 78/150\n",
      "11/11 [==============================] - 1s 133ms/step - loss: 0.0212 - accuracy: 0.9938 - val_loss: 3.6476 - val_accuracy: 0.6853 - lr: 4.4933e-04\n",
      "Epoch 79/150\n",
      "11/11 [==============================] - 1s 131ms/step - loss: 0.0220 - accuracy: 0.9932 - val_loss: 4.0303 - val_accuracy: 0.6726 - lr: 4.4933e-04\n",
      "Epoch 80/150\n",
      "11/11 [==============================] - 1s 131ms/step - loss: 0.0217 - accuracy: 0.9936 - val_loss: 4.8232 - val_accuracy: 0.6463 - lr: 4.4933e-04\n",
      "Epoch 81/150\n",
      "11/11 [==============================] - 1s 131ms/step - loss: 0.0166 - accuracy: 0.9955 - val_loss: 5.0429 - val_accuracy: 0.6537 - lr: 4.0657e-04\n",
      "Epoch 82/150\n",
      "11/11 [==============================] - 1s 131ms/step - loss: 0.0177 - accuracy: 0.9947 - val_loss: 4.9135 - val_accuracy: 0.6558 - lr: 4.0657e-04\n",
      "Epoch 83/150\n",
      "11/11 [==============================] - 1s 132ms/step - loss: 0.0177 - accuracy: 0.9954 - val_loss: 5.6567 - val_accuracy: 0.6274 - lr: 4.0657e-04\n",
      "Epoch 84/150\n",
      "11/11 [==============================] - 1s 133ms/step - loss: 0.0187 - accuracy: 0.9944 - val_loss: 5.1016 - val_accuracy: 0.6600 - lr: 4.0657e-04\n",
      "Epoch 85/150\n",
      "11/11 [==============================] - 1s 131ms/step - loss: 0.0155 - accuracy: 0.9950 - val_loss: 4.4304 - val_accuracy: 0.6905 - lr: 4.0657e-04\n",
      "Epoch 86/150\n",
      "11/11 [==============================] - 1s 132ms/step - loss: 0.0194 - accuracy: 0.9937 - val_loss: 4.4779 - val_accuracy: 0.6853 - lr: 4.0657e-04\n",
      "Epoch 87/150\n",
      "11/11 [==============================] - 1s 131ms/step - loss: 0.0163 - accuracy: 0.9949 - val_loss: 4.6601 - val_accuracy: 0.6737 - lr: 4.0657e-04\n",
      "Epoch 88/150\n",
      "11/11 [==============================] - 1s 131ms/step - loss: 0.0160 - accuracy: 0.9958 - val_loss: 5.0235 - val_accuracy: 0.6768 - lr: 4.0657e-04\n",
      "Epoch 89/150\n",
      "11/11 [==============================] - 1s 131ms/step - loss: 0.0141 - accuracy: 0.9966 - val_loss: 5.6889 - val_accuracy: 0.6600 - lr: 4.0657e-04\n",
      "Epoch 90/150\n",
      "11/11 [==============================] - 1s 131ms/step - loss: 0.0157 - accuracy: 0.9961 - val_loss: 5.1969 - val_accuracy: 0.6779 - lr: 4.0657e-04\n",
      "Epoch 91/150\n",
      "11/11 [==============================] - 1s 131ms/step - loss: 0.0146 - accuracy: 0.9958 - val_loss: 5.2207 - val_accuracy: 0.6832 - lr: 3.6788e-04\n",
      "Epoch 92/150\n",
      "11/11 [==============================] - 1s 131ms/step - loss: 0.0135 - accuracy: 0.9960 - val_loss: 5.4556 - val_accuracy: 0.6758 - lr: 3.6788e-04\n",
      "Epoch 93/150\n",
      "11/11 [==============================] - 1s 131ms/step - loss: 0.0145 - accuracy: 0.9961 - val_loss: 5.4977 - val_accuracy: 0.6663 - lr: 3.6788e-04\n",
      "Epoch 94/150\n",
      "11/11 [==============================] - 1s 130ms/step - loss: 0.0149 - accuracy: 0.9955 - val_loss: 5.1082 - val_accuracy: 0.6758 - lr: 3.6788e-04\n",
      "Epoch 95/150\n",
      "11/11 [==============================] - 1s 131ms/step - loss: 0.0141 - accuracy: 0.9954 - val_loss: 6.2862 - val_accuracy: 0.6411 - lr: 3.6788e-04\n",
      "Epoch 96/150\n",
      "11/11 [==============================] - 1s 132ms/step - loss: 0.0150 - accuracy: 0.9960 - val_loss: 6.4496 - val_accuracy: 0.6295 - lr: 3.6788e-04\n",
      "Epoch 97/150\n",
      "11/11 [==============================] - 1s 131ms/step - loss: 0.0138 - accuracy: 0.9958 - val_loss: 5.7746 - val_accuracy: 0.6505 - lr: 3.6788e-04\n",
      "Epoch 98/150\n",
      "11/11 [==============================] - 1s 131ms/step - loss: 0.0123 - accuracy: 0.9967 - val_loss: 5.4136 - val_accuracy: 0.6526 - lr: 3.6788e-04\n",
      "Epoch 99/150\n",
      "11/11 [==============================] - 1s 131ms/step - loss: 0.0123 - accuracy: 0.9967 - val_loss: 5.1672 - val_accuracy: 0.6695 - lr: 3.6788e-04\n",
      "Epoch 100/150\n",
      "11/11 [==============================] - 1s 131ms/step - loss: 0.0142 - accuracy: 0.9961 - val_loss: 5.2910 - val_accuracy: 0.6568 - lr: 3.6788e-04\n",
      "Epoch 101/150\n",
      "11/11 [==============================] - 1s 132ms/step - loss: 0.0137 - accuracy: 0.9955 - val_loss: 6.8806 - val_accuracy: 0.6295 - lr: 3.3287e-04\n",
      "Epoch 102/150\n",
      "11/11 [==============================] - 1s 133ms/step - loss: 0.0118 - accuracy: 0.9967 - val_loss: 5.2520 - val_accuracy: 0.6758 - lr: 3.3287e-04\n",
      "Epoch 103/150\n",
      "11/11 [==============================] - 1s 130ms/step - loss: 0.0113 - accuracy: 0.9963 - val_loss: 5.1863 - val_accuracy: 0.6684 - lr: 3.3287e-04\n",
      "Epoch 104/150\n",
      "11/11 [==============================] - 1s 132ms/step - loss: 0.0091 - accuracy: 0.9976 - val_loss: 5.3285 - val_accuracy: 0.6642 - lr: 3.3287e-04\n",
      "Epoch 105/150\n",
      "11/11 [==============================] - 1s 132ms/step - loss: 0.0099 - accuracy: 0.9976 - val_loss: 5.2080 - val_accuracy: 0.6695 - lr: 3.3287e-04\n",
      "Epoch 106/150\n",
      "11/11 [==============================] - 1s 132ms/step - loss: 0.0092 - accuracy: 0.9976 - val_loss: 5.1895 - val_accuracy: 0.6579 - lr: 3.3287e-04\n",
      "Epoch 107/150\n",
      "11/11 [==============================] - 1s 132ms/step - loss: 0.0122 - accuracy: 0.9971 - val_loss: 4.9890 - val_accuracy: 0.6579 - lr: 3.3287e-04\n",
      "Epoch 108/150\n",
      "11/11 [==============================] - 1s 133ms/step - loss: 0.0102 - accuracy: 0.9975 - val_loss: 4.7017 - val_accuracy: 0.6695 - lr: 3.3287e-04\n",
      "Epoch 109/150\n",
      "11/11 [==============================] - 1s 132ms/step - loss: 0.0095 - accuracy: 0.9974 - val_loss: 4.7478 - val_accuracy: 0.6632 - lr: 3.3287e-04\n",
      "Epoch 110/150\n",
      "11/11 [==============================] - 1s 130ms/step - loss: 0.0095 - accuracy: 0.9976 - val_loss: 4.8538 - val_accuracy: 0.6632 - lr: 3.3287e-04\n",
      "Epoch 111/150\n",
      "11/11 [==============================] - 1s 132ms/step - loss: 0.0117 - accuracy: 0.9968 - val_loss: 4.9523 - val_accuracy: 0.6600 - lr: 3.0119e-04\n",
      "Epoch 112/150\n",
      "11/11 [==============================] - 1s 132ms/step - loss: 0.0100 - accuracy: 0.9969 - val_loss: 5.2597 - val_accuracy: 0.6558 - lr: 3.0119e-04\n",
      "Epoch 113/150\n",
      "11/11 [==============================] - 1s 132ms/step - loss: 0.0095 - accuracy: 0.9974 - val_loss: 4.5140 - val_accuracy: 0.6958 - lr: 3.0119e-04\n",
      "Epoch 114/150\n",
      "11/11 [==============================] - 1s 132ms/step - loss: 0.0096 - accuracy: 0.9974 - val_loss: 4.5255 - val_accuracy: 0.6989 - lr: 3.0119e-04\n",
      "Epoch 115/150\n",
      "11/11 [==============================] - 1s 132ms/step - loss: 0.0075 - accuracy: 0.9981 - val_loss: 4.6121 - val_accuracy: 0.6874 - lr: 3.0119e-04\n",
      "Epoch 116/150\n",
      "11/11 [==============================] - 1s 131ms/step - loss: 0.0079 - accuracy: 0.9979 - val_loss: 4.4565 - val_accuracy: 0.6863 - lr: 3.0119e-04\n",
      "Epoch 117/150\n",
      "11/11 [==============================] - 1s 132ms/step - loss: 0.0078 - accuracy: 0.9984 - val_loss: 4.4806 - val_accuracy: 0.6821 - lr: 3.0119e-04\n",
      "Epoch 118/150\n",
      "11/11 [==============================] - 1s 132ms/step - loss: 0.0077 - accuracy: 0.9982 - val_loss: 5.1798 - val_accuracy: 0.6495 - lr: 3.0119e-04\n",
      "Epoch 119/150\n",
      "11/11 [==============================] - 1s 132ms/step - loss: 0.0087 - accuracy: 0.9976 - val_loss: 5.0414 - val_accuracy: 0.6547 - lr: 3.0119e-04\n",
      "Epoch 120/150\n",
      "11/11 [==============================] - 1s 132ms/step - loss: 0.0086 - accuracy: 0.9978 - val_loss: 5.1445 - val_accuracy: 0.6547 - lr: 3.0119e-04\n",
      "Epoch 121/150\n",
      "11/11 [==============================] - 1s 131ms/step - loss: 0.0083 - accuracy: 0.9982 - val_loss: 5.4714 - val_accuracy: 0.6558 - lr: 2.7253e-04\n",
      "Epoch 122/150\n",
      "11/11 [==============================] - 1s 130ms/step - loss: 0.0077 - accuracy: 0.9981 - val_loss: 5.2080 - val_accuracy: 0.6611 - lr: 2.7253e-04\n",
      "Epoch 123/150\n",
      "11/11 [==============================] - 1s 131ms/step - loss: 0.0075 - accuracy: 0.9977 - val_loss: 5.5267 - val_accuracy: 0.6547 - lr: 2.7253e-04\n",
      "Epoch 124/150\n",
      "11/11 [==============================] - 1s 133ms/step - loss: 0.0084 - accuracy: 0.9976 - val_loss: 5.1517 - val_accuracy: 0.6621 - lr: 2.7253e-04\n",
      "Epoch 125/150\n",
      "11/11 [==============================] - 1s 131ms/step - loss: 0.0077 - accuracy: 0.9984 - val_loss: 4.8800 - val_accuracy: 0.6726 - lr: 2.7253e-04\n",
      "Epoch 126/150\n",
      "11/11 [==============================] - 1s 131ms/step - loss: 0.0079 - accuracy: 0.9979 - val_loss: 4.9937 - val_accuracy: 0.6632 - lr: 2.7253e-04\n",
      "Epoch 127/150\n",
      "11/11 [==============================] - 1s 131ms/step - loss: 0.0081 - accuracy: 0.9979 - val_loss: 5.1952 - val_accuracy: 0.6600 - lr: 2.7253e-04\n",
      "Epoch 128/150\n",
      "11/11 [==============================] - 1s 132ms/step - loss: 0.0081 - accuracy: 0.9980 - val_loss: 4.9376 - val_accuracy: 0.6684 - lr: 2.7253e-04\n",
      "Epoch 129/150\n",
      "11/11 [==============================] - 1s 132ms/step - loss: 0.0070 - accuracy: 0.9980 - val_loss: 4.9937 - val_accuracy: 0.6642 - lr: 2.7253e-04\n",
      "Epoch 130/150\n",
      "11/11 [==============================] - 1s 131ms/step - loss: 0.0069 - accuracy: 0.9982 - val_loss: 4.8025 - val_accuracy: 0.6705 - lr: 2.7253e-04\n",
      "Epoch 131/150\n",
      "11/11 [==============================] - 1s 132ms/step - loss: 0.0075 - accuracy: 0.9981 - val_loss: 4.7259 - val_accuracy: 0.6695 - lr: 2.4660e-04\n",
      "Epoch 132/150\n",
      "11/11 [==============================] - 1s 132ms/step - loss: 0.0061 - accuracy: 0.9986 - val_loss: 5.0115 - val_accuracy: 0.6568 - lr: 2.4660e-04\n",
      "Epoch 133/150\n",
      "11/11 [==============================] - 1s 132ms/step - loss: 0.0070 - accuracy: 0.9979 - val_loss: 5.2505 - val_accuracy: 0.6516 - lr: 2.4660e-04\n",
      "Epoch 134/150\n",
      "11/11 [==============================] - 1s 131ms/step - loss: 0.0075 - accuracy: 0.9981 - val_loss: 5.2777 - val_accuracy: 0.6558 - lr: 2.4660e-04\n",
      "Epoch 135/150\n",
      "11/11 [==============================] - 1s 132ms/step - loss: 0.0070 - accuracy: 0.9979 - val_loss: 5.7404 - val_accuracy: 0.6495 - lr: 2.4660e-04\n",
      "Epoch 136/150\n",
      "11/11 [==============================] - 1s 131ms/step - loss: 0.0072 - accuracy: 0.9981 - val_loss: 5.8223 - val_accuracy: 0.6516 - lr: 2.4660e-04\n",
      "Epoch 137/150\n",
      "11/11 [==============================] - 1s 131ms/step - loss: 0.0072 - accuracy: 0.9981 - val_loss: 6.0209 - val_accuracy: 0.6432 - lr: 2.4660e-04\n",
      "Epoch 138/150\n",
      "11/11 [==============================] - 1s 131ms/step - loss: 0.0068 - accuracy: 0.9980 - val_loss: 6.2032 - val_accuracy: 0.6389 - lr: 2.4660e-04\n",
      "Epoch 139/150\n",
      "11/11 [==============================] - 1s 131ms/step - loss: 0.0066 - accuracy: 0.9983 - val_loss: 5.6784 - val_accuracy: 0.6400 - lr: 2.4660e-04\n",
      "Epoch 140/150\n",
      "11/11 [==============================] - 1s 132ms/step - loss: 0.0064 - accuracy: 0.9982 - val_loss: 5.6961 - val_accuracy: 0.6442 - lr: 2.4660e-04\n",
      "Epoch 141/150\n",
      "11/11 [==============================] - 1s 131ms/step - loss: 0.0060 - accuracy: 0.9985 - val_loss: 6.0220 - val_accuracy: 0.6442 - lr: 2.2313e-04\n",
      "Epoch 142/150\n",
      "11/11 [==============================] - 1s 133ms/step - loss: 0.0059 - accuracy: 0.9986 - val_loss: 5.9831 - val_accuracy: 0.6474 - lr: 2.2313e-04\n",
      "Epoch 143/150\n",
      "11/11 [==============================] - 1s 130ms/step - loss: 0.0055 - accuracy: 0.9988 - val_loss: 6.0564 - val_accuracy: 0.6432 - lr: 2.2313e-04\n",
      "Epoch 144/150\n",
      "11/11 [==============================] - 1s 131ms/step - loss: 0.0062 - accuracy: 0.9986 - val_loss: 5.9222 - val_accuracy: 0.6484 - lr: 2.2313e-04\n",
      "Epoch 145/150\n",
      "11/11 [==============================] - 1s 131ms/step - loss: 0.0067 - accuracy: 0.9978 - val_loss: 5.5554 - val_accuracy: 0.6621 - lr: 2.2313e-04\n",
      "Epoch 146/150\n",
      "11/11 [==============================] - 1s 131ms/step - loss: 0.0055 - accuracy: 0.9990 - val_loss: 5.8498 - val_accuracy: 0.6453 - lr: 2.2313e-04\n",
      "Epoch 147/150\n",
      "11/11 [==============================] - 1s 132ms/step - loss: 0.0065 - accuracy: 0.9982 - val_loss: 5.3238 - val_accuracy: 0.6600 - lr: 2.2313e-04\n",
      "Epoch 148/150\n",
      "11/11 [==============================] - 1s 132ms/step - loss: 0.0059 - accuracy: 0.9984 - val_loss: 5.2462 - val_accuracy: 0.6695 - lr: 2.2313e-04\n",
      "Epoch 149/150\n",
      "11/11 [==============================] - 1s 133ms/step - loss: 0.0073 - accuracy: 0.9979 - val_loss: 5.5396 - val_accuracy: 0.6579 - lr: 2.2313e-04\n",
      "Epoch 150/150\n",
      "11/11 [==============================] - 1s 131ms/step - loss: 0.0064 - accuracy: 0.9986 - val_loss: 6.1423 - val_accuracy: 0.6347 - lr: 2.2313e-04\n"
     ]
    }
   ],
   "source": [
    "base_model = keras.models.Sequential([                             \n",
    "      keras.layers.Conv2D(filters=32, kernel_size=[3, 3], padding=\"same\", activation=\"relu\", input_shape=[28, 28,1]),\n",
    "      keras.layers.BatchNormalization(),\n",
    "      keras.layers.Dropout(0.20),\n",
    "      keras.layers.Conv2D(filters=32, kernel_size=[3, 3], padding=\"same\", activation=\"relu\", input_shape=[28, 28,1]),\n",
    "      keras.layers.BatchNormalization(),\n",
    "      keras.layers.AveragePooling2D(),\n",
    "      keras.layers.Dropout(0.20),\n",
    "      keras.layers.Conv2D(filters=64, kernel_size=[3,3], padding=\"same\", activation=\"relu\", input_shape=[28, 28,1]),\n",
    "      keras.layers.BatchNormalization(),\n",
    "      keras.layers.Dropout(0.20),\n",
    "      keras.layers.Conv2D(filters=64, kernel_size=[3,3], padding=\"same\", activation=\"relu\", input_shape=[28, 28,1]),\n",
    "      keras.layers.BatchNormalization(),\n",
    "      keras.layers.AveragePooling2D(),\n",
    "      keras.layers.Dropout(0.20),\n",
    "      keras.layers.Flatten(),\n",
    "      keras.layers.Dense(512, activation='relu'),\n",
    "      keras.layers.BatchNormalization(),\n",
    "      keras.layers.Dropout(0.20),\n",
    "      keras.layers.Dense(2, activation=\"softmax\")\n",
    "    ])\n",
    "base_model.compile(loss=\"sparse_categorical_crossentropy\",\n",
    "                optimizer=keras.optimizers.Adam(),\n",
    "                metrics=[\"accuracy\"])\n",
    "    \n",
    "callbacks = [\n",
    "      keras.callbacks.LearningRateScheduler(scheduler)\n",
    "    ]\n",
    "\n",
    "history = base_model.fit(datagen.flow(shirt_x_train, shirt_y_train, batch_size=1024), epochs=150, \n",
    "                      validation_data=(shirt_x_valid, shirt_y_valid), callbacks=callbacks, verbose=0)"
   ]
  },
  {
   "cell_type": "code",
   "execution_count": 123,
   "metadata": {
    "colab": {},
    "colab_type": "code",
    "id": "dW8FtVAnMhVO"
   },
   "outputs": [],
   "source": [
    "def DAA(fallback_weights, best_accuracy=0.9, training_epochs=200):\n",
    "  print(f'Begining with base model with starting accuracy: {best_accuracy}')\n",
    "  model = keras.models.Sequential([                             \n",
    "      keras.layers.Conv2D(filters=32, kernel_size=[3, 3], padding=\"same\", activation=\"relu\", input_shape=[28, 28,1]),\n",
    "      keras.layers.BatchNormalization(),\n",
    "      keras.layers.Dropout(0.20),\n",
    "      keras.layers.Conv2D(filters=32, kernel_size=[3, 3], padding=\"same\", activation=\"relu\"),\n",
    "      keras.layers.BatchNormalization(),\n",
    "      keras.layers.AveragePooling2D(),\n",
    "      keras.layers.Dropout(0.20),\n",
    "      keras.layers.Conv2D(filters=64, kernel_size=[3,3], padding=\"same\", activation=\"relu\"),\n",
    "      keras.layers.BatchNormalization(),\n",
    "      keras.layers.Dropout(0.20),\n",
    "      keras.layers.Conv2D(filters=64, kernel_size=[3,3], padding=\"same\", activation=\"relu\"),\n",
    "      keras.layers.BatchNormalization(),\n",
    "      keras.layers.AveragePooling2D(),\n",
    "      keras.layers.Dropout(0.20),\n",
    "      keras.layers.Flatten(),\n",
    "      keras.layers.Dense(512, activation='relu'),\n",
    "      keras.layers.BatchNormalization(),\n",
    "      keras.layers.Dropout(0.20),\n",
    "      keras.layers.Dense(2, activation=\"softmax\")\n",
    "    ])\n",
    "  model.compile(loss=\"sparse_categorical_crossentropy\",\n",
    "                  optimizer=keras.optimizers.RMSprop(),\n",
    "                  metrics=[\"accuracy\"])\n",
    "      \n",
    "  callbacks = [\n",
    "        keras.callbacks.EarlyStopping(monitor='val_accuracy', patience=15),\n",
    "        keras.callbacks.LearningRateScheduler(scheduler)\n",
    "      ]\n",
    "\n",
    "  options = [\n",
    "             {'width_shift_range': 0.15},\n",
    "             {'height_shift_range': 0.15},\n",
    "             {'zoom_range': 0.15},\n",
    "             {'rotation_range': 10},\n",
    "             {'width_shift_range': 0.10},\n",
    "             {'height_shift_range': 0.10},\n",
    "             {'zoom_range': 0.1}, \n",
    "             {'rotation_range': 5},\n",
    "             {'width_shift_range': 0.15},\n",
    "             {'height_shift_range': 0.15},\n",
    "             {'zoom_range': 0.15},\n",
    "             {'rotation_range': 10},\n",
    "             {'width_shift_range': 0.1, 'height_shift_range': 0.1},\n",
    "             {'width_shift_range': 0.15, 'height_shift_range': 0.15},\n",
    "             {'width_shift_range': 0.1, 'zoom_range': 0.15},\n",
    "             {'height_shift_range': 0.1, 'zoom_range': 0.15},\n",
    "             {'width_shift_range': 0.1, 'zoom_range': 0.05},\n",
    "             {'height_shift_range': 0.1, 'zoom_range': 0.05},\n",
    "             ]\n",
    "  \n",
    "  best_option = {}\n",
    "  \n",
    "  number_of_options = len(options)\n",
    "  outputs = []\n",
    "\n",
    "  for i in range(number_of_options):\n",
    "    print(f'Option considered: {options[i]}')\n",
    "    datagen = keras.preprocessing.image.ImageDataGenerator(**options[i])\n",
    "    datagen.fit(shirt_x_train)\n",
    "\n",
    "    model.set_weights(fallback_weights)\n",
    "    history = model.fit(datagen.flow(shirt_x_train, shirt_y_train, batch_size=1024), epochs=training_epochs, verbose=0,\n",
    "                        callbacks=callbacks, validation_data=(shirt_x_valid, shirt_y_valid))\n",
    "    \n",
    "    top = np.sort(history.history['val_accuracy'])[-1]\n",
    "    outputs.append([options[i], top, training_epochs])\n",
    "\n",
    "    if top > best_accuracy:\n",
    "      best_accuracy = top\n",
    "      training_epochs=max(training_epochs-35, 40)\n",
    "      fallback_weights = model.get_weights()\n",
    "      best_option = options[i]\n",
    "      print(f'Increased accuracy to: {top}. Updating model weights, Reducing training epochs to {training_epochs}')\n",
    "\n",
    "      if i+1<number_of_options:\n",
    "        for (key, value) in options[i].items():\n",
    "          if key not in options[i+1]:\n",
    "            options[i+1][key] = value\n",
    "    else:\n",
    "      if i+1<number_of_options:\n",
    "        for (key, value) in best_option.items():\n",
    "          if key not in options[i+1]:\n",
    "            options[i+1][key] = value\n",
    "      print(f'Degenerated. Using fallback weights, Training epochs stay the same: {training_epochs}')\n",
    "  return outputs"
   ]
  },
  {
   "cell_type": "code",
   "execution_count": 124,
   "metadata": {
    "colab": {
     "base_uri": "https://localhost:8080/",
     "height": 646
    },
    "colab_type": "code",
    "id": "fgwzhS-1aceQ",
    "outputId": "28f66f0a-d9ac-4db8-c9ed-885d66cddfa9"
   },
   "outputs": [
    {
     "name": "stdout",
     "output_type": "stream",
     "text": [
      "Begining with base model with starting accuracy: 0.9068\n",
      "Option considered: {'width_shift_range': 0.15}\n",
      "Increased accuracy to: 0.9147368669509888. Updating model weights, Reducing training epochs to 165\n",
      "Option considered: {'height_shift_range': 0.15, 'width_shift_range': 0.15}\n",
      "Degenerated. Using fallback weights, Training epochs stay the same: 165\n",
      "Option considered: {'zoom_range': 0.15, 'width_shift_range': 0.15}\n",
      "Degenerated. Using fallback weights, Training epochs stay the same: 165\n",
      "Option considered: {'rotation_range': 10, 'width_shift_range': 0.15}\n",
      "Increased accuracy to: 0.9157894849777222. Updating model weights, Reducing training epochs to 130\n",
      "Option considered: {'width_shift_range': 0.1, 'rotation_range': 10}\n",
      "Increased accuracy to: 0.9200000166893005. Updating model weights, Reducing training epochs to 95\n",
      "Option considered: {'height_shift_range': 0.1, 'width_shift_range': 0.1, 'rotation_range': 10}\n",
      "Degenerated. Using fallback weights, Training epochs stay the same: 95\n",
      "Option considered: {'zoom_range': 0.1, 'width_shift_range': 0.1, 'rotation_range': 10}\n",
      "Degenerated. Using fallback weights, Training epochs stay the same: 95\n",
      "Option considered: {'rotation_range': 5, 'width_shift_range': 0.1}\n",
      "Increased accuracy to: 0.9284210801124573. Updating model weights, Reducing training epochs to 60\n",
      "Option considered: {'width_shift_range': 0.15, 'rotation_range': 5}\n",
      "Degenerated. Using fallback weights, Training epochs stay the same: 60\n",
      "Option considered: {'height_shift_range': 0.15, 'rotation_range': 5, 'width_shift_range': 0.1}\n",
      "Degenerated. Using fallback weights, Training epochs stay the same: 60\n",
      "Option considered: {'zoom_range': 0.15, 'rotation_range': 5, 'width_shift_range': 0.1}\n",
      "Degenerated. Using fallback weights, Training epochs stay the same: 60\n",
      "Option considered: {'rotation_range': 10, 'width_shift_range': 0.1}\n",
      "Degenerated. Using fallback weights, Training epochs stay the same: 60\n",
      "Option considered: {'width_shift_range': 0.1, 'height_shift_range': 0.1, 'rotation_range': 5}\n",
      "Degenerated. Using fallback weights, Training epochs stay the same: 60\n",
      "Option considered: {'width_shift_range': 0.15, 'height_shift_range': 0.15, 'rotation_range': 5}\n",
      "Degenerated. Using fallback weights, Training epochs stay the same: 60\n",
      "Option considered: {'width_shift_range': 0.1, 'zoom_range': 0.15, 'rotation_range': 5}\n",
      "Degenerated. Using fallback weights, Training epochs stay the same: 60\n",
      "Option considered: {'height_shift_range': 0.1, 'zoom_range': 0.15, 'rotation_range': 5, 'width_shift_range': 0.1}\n",
      "Degenerated. Using fallback weights, Training epochs stay the same: 60\n",
      "Option considered: {'width_shift_range': 0.1, 'zoom_range': 0.05, 'rotation_range': 5}\n",
      "Degenerated. Using fallback weights, Training epochs stay the same: 60\n",
      "Option considered: {'height_shift_range': 0.1, 'zoom_range': 0.05, 'rotation_range': 5, 'width_shift_range': 0.1}\n",
      "Degenerated. Using fallback weights, Training epochs stay the same: 60\n"
     ]
    }
   ],
   "source": [
    "values = generate_values(base_model.get_weights(), 0.9068)"
   ]
  },
  {
   "cell_type": "code",
   "execution_count": 125,
   "metadata": {
    "colab": {
     "base_uri": "https://localhost:8080/",
     "height": 629
    },
    "colab_type": "code",
    "id": "QFM3vR0xbaOT",
    "outputId": "38cb2249-a699-4d81-9b79-bca8cb7c95b7"
   },
   "outputs": [
    {
     "name": "stdout",
     "output_type": "stream",
     "text": [
      "Option used: {'width_shift_range': 0.15}\n",
      "Achieved Accuracy: 0.9147368669509888 in 200 additional epochs\n",
      "Option used: {'height_shift_range': 0.15, 'width_shift_range': 0.15}\n",
      "Achieved Accuracy: 0.9147368669509888 in 165 additional epochs\n",
      "Option used: {'zoom_range': 0.15, 'width_shift_range': 0.15}\n",
      "Achieved Accuracy: 0.9136841893196106 in 165 additional epochs\n",
      "Option used: {'rotation_range': 10, 'width_shift_range': 0.15}\n",
      "Achieved Accuracy: 0.9157894849777222 in 165 additional epochs\n",
      "Option used: {'width_shift_range': 0.1, 'rotation_range': 10}\n",
      "Achieved Accuracy: 0.9200000166893005 in 130 additional epochs\n",
      "Option used: {'height_shift_range': 0.1, 'width_shift_range': 0.1, 'rotation_range': 10}\n",
      "Achieved Accuracy: 0.9200000166893005 in 95 additional epochs\n",
      "Option used: {'zoom_range': 0.1, 'width_shift_range': 0.1, 'rotation_range': 10}\n",
      "Achieved Accuracy: 0.917894721031189 in 95 additional epochs\n",
      "Option used: {'rotation_range': 5, 'width_shift_range': 0.1}\n",
      "Achieved Accuracy: 0.9284210801124573 in 95 additional epochs\n",
      "Option used: {'width_shift_range': 0.15, 'rotation_range': 5}\n",
      "Achieved Accuracy: 0.9252631664276123 in 60 additional epochs\n",
      "Option used: {'height_shift_range': 0.15, 'rotation_range': 5, 'width_shift_range': 0.1}\n",
      "Achieved Accuracy: 0.9200000166893005 in 60 additional epochs\n",
      "Option used: {'zoom_range': 0.15, 'rotation_range': 5, 'width_shift_range': 0.1}\n",
      "Achieved Accuracy: 0.9210526347160339 in 60 additional epochs\n",
      "Option used: {'rotation_range': 10, 'width_shift_range': 0.1}\n",
      "Achieved Accuracy: 0.9231578707695007 in 60 additional epochs\n",
      "Option used: {'width_shift_range': 0.1, 'height_shift_range': 0.1, 'rotation_range': 5}\n",
      "Achieved Accuracy: 0.9252631664276123 in 60 additional epochs\n",
      "Option used: {'width_shift_range': 0.15, 'height_shift_range': 0.15, 'rotation_range': 5}\n",
      "Achieved Accuracy: 0.9231578707695007 in 60 additional epochs\n",
      "Option used: {'width_shift_range': 0.1, 'zoom_range': 0.15, 'rotation_range': 5}\n",
      "Achieved Accuracy: 0.9231578707695007 in 60 additional epochs\n",
      "Option used: {'height_shift_range': 0.1, 'zoom_range': 0.15, 'rotation_range': 5, 'width_shift_range': 0.1}\n",
      "Achieved Accuracy: 0.9252631664276123 in 60 additional epochs\n",
      "Option used: {'width_shift_range': 0.1, 'zoom_range': 0.05, 'rotation_range': 5}\n",
      "Achieved Accuracy: 0.9221052527427673 in 60 additional epochs\n",
      "Option used: {'height_shift_range': 0.1, 'zoom_range': 0.05, 'rotation_range': 5, 'width_shift_range': 0.1}\n",
      "Achieved Accuracy: 0.9252631664276123 in 60 additional epochs\n"
     ]
    }
   ],
   "source": [
    "for k, p, e in values:\n",
    "  print(f'Option used: {k}\\nAchieved Accuracy: {p} in {e} additional epochs')"
   ]
  },
  {
   "cell_type": "code",
   "execution_count": null,
   "metadata": {
    "colab": {},
    "colab_type": "code",
    "id": "Ldp04ikbCGKa"
   },
   "outputs": [],
   "source": []
  }
 ],
 "metadata": {
  "accelerator": "GPU",
  "colab": {
   "collapsed_sections": [],
   "name": "Data Augmentation Automation.ipynb",
   "provenance": []
  },
  "kernelspec": {
   "display_name": "Python 3",
   "language": "python",
   "name": "python3"
  },
  "language_info": {
   "codemirror_mode": {
    "name": "ipython",
    "version": 3
   },
   "file_extension": ".py",
   "mimetype": "text/x-python",
   "name": "python",
   "nbconvert_exporter": "python",
   "pygments_lexer": "ipython3",
   "version": "3.7.6"
  }
 },
 "nbformat": 4,
 "nbformat_minor": 1
}
